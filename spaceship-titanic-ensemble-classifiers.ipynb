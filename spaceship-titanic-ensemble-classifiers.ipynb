{
 "cells": [
  {
   "cell_type": "code",
   "execution_count": 1,
   "id": "29e3ab3a",
   "metadata": {
    "_cell_guid": "b1076dfc-b9ad-4769-8c92-a6c4dae69d19",
    "_uuid": "8f2839f25d086af736a60e9eeb907d3b93b6e0e5",
    "execution": {
     "iopub.execute_input": "2022-04-01T01:06:27.617665Z",
     "iopub.status.busy": "2022-04-01T01:06:27.616400Z",
     "iopub.status.idle": "2022-04-01T01:06:29.074916Z",
     "shell.execute_reply": "2022-04-01T01:06:29.075372Z",
     "shell.execute_reply.started": "2022-04-01T00:52:08.160106Z"
    },
    "papermill": {
     "duration": 1.498707,
     "end_time": "2022-04-01T01:06:29.075749",
     "exception": false,
     "start_time": "2022-04-01T01:06:27.577042",
     "status": "completed"
    },
    "tags": []
   },
   "outputs": [],
   "source": [
    "import pandas as pd\n",
    "import matplotlib.pyplot as plt\n",
    "import seaborn as sns\n",
    "from category_encoders.one_hot import OneHotEncoder \n",
    "from sklearn.model_selection import train_test_split\n",
    "from sklearn.ensemble import RandomForestClassifier\n",
    "from sklearn.metrics import accuracy_score\n",
    "from sklearn.ensemble import AdaBoostClassifier\n",
    "from sklearn.ensemble import GradientBoostingClassifier "
   ]
  },
  {
   "cell_type": "markdown",
   "id": "3696b655",
   "metadata": {
    "papermill": {
     "duration": 0.028635,
     "end_time": "2022-04-01T01:06:29.134100",
     "exception": false,
     "start_time": "2022-04-01T01:06:29.105465",
     "status": "completed"
    },
    "tags": []
   },
   "source": [
    "#### Importing the data"
   ]
  },
  {
   "cell_type": "code",
   "execution_count": 2,
   "id": "4acc1f92",
   "metadata": {
    "execution": {
     "iopub.execute_input": "2022-04-01T01:06:29.195588Z",
     "iopub.status.busy": "2022-04-01T01:06:29.195034Z",
     "iopub.status.idle": "2022-04-01T01:06:29.262566Z",
     "shell.execute_reply": "2022-04-01T01:06:29.263026Z",
     "shell.execute_reply.started": "2022-04-01T00:52:08.307925Z"
    },
    "papermill": {
     "duration": 0.09963,
     "end_time": "2022-04-01T01:06:29.263166",
     "exception": false,
     "start_time": "2022-04-01T01:06:29.163536",
     "status": "completed"
    },
    "tags": []
   },
   "outputs": [
    {
     "data": {
      "text/html": [
       "<div>\n",
       "<style scoped>\n",
       "    .dataframe tbody tr th:only-of-type {\n",
       "        vertical-align: middle;\n",
       "    }\n",
       "\n",
       "    .dataframe tbody tr th {\n",
       "        vertical-align: top;\n",
       "    }\n",
       "\n",
       "    .dataframe thead th {\n",
       "        text-align: right;\n",
       "    }\n",
       "</style>\n",
       "<table border=\"1\" class=\"dataframe\">\n",
       "  <thead>\n",
       "    <tr style=\"text-align: right;\">\n",
       "      <th></th>\n",
       "      <th>PassengerId</th>\n",
       "      <th>HomePlanet</th>\n",
       "      <th>CryoSleep</th>\n",
       "      <th>Cabin</th>\n",
       "      <th>Destination</th>\n",
       "      <th>Age</th>\n",
       "      <th>VIP</th>\n",
       "      <th>RoomService</th>\n",
       "      <th>FoodCourt</th>\n",
       "      <th>ShoppingMall</th>\n",
       "      <th>Spa</th>\n",
       "      <th>VRDeck</th>\n",
       "      <th>Name</th>\n",
       "      <th>Transported</th>\n",
       "    </tr>\n",
       "  </thead>\n",
       "  <tbody>\n",
       "    <tr>\n",
       "      <th>0</th>\n",
       "      <td>0001_01</td>\n",
       "      <td>Europa</td>\n",
       "      <td>False</td>\n",
       "      <td>B/0/P</td>\n",
       "      <td>TRAPPIST-1e</td>\n",
       "      <td>39.0</td>\n",
       "      <td>False</td>\n",
       "      <td>0.0</td>\n",
       "      <td>0.0</td>\n",
       "      <td>0.0</td>\n",
       "      <td>0.0</td>\n",
       "      <td>0.0</td>\n",
       "      <td>Maham Ofracculy</td>\n",
       "      <td>False</td>\n",
       "    </tr>\n",
       "    <tr>\n",
       "      <th>1</th>\n",
       "      <td>0002_01</td>\n",
       "      <td>Earth</td>\n",
       "      <td>False</td>\n",
       "      <td>F/0/S</td>\n",
       "      <td>TRAPPIST-1e</td>\n",
       "      <td>24.0</td>\n",
       "      <td>False</td>\n",
       "      <td>109.0</td>\n",
       "      <td>9.0</td>\n",
       "      <td>25.0</td>\n",
       "      <td>549.0</td>\n",
       "      <td>44.0</td>\n",
       "      <td>Juanna Vines</td>\n",
       "      <td>True</td>\n",
       "    </tr>\n",
       "    <tr>\n",
       "      <th>2</th>\n",
       "      <td>0003_01</td>\n",
       "      <td>Europa</td>\n",
       "      <td>False</td>\n",
       "      <td>A/0/S</td>\n",
       "      <td>TRAPPIST-1e</td>\n",
       "      <td>58.0</td>\n",
       "      <td>True</td>\n",
       "      <td>43.0</td>\n",
       "      <td>3576.0</td>\n",
       "      <td>0.0</td>\n",
       "      <td>6715.0</td>\n",
       "      <td>49.0</td>\n",
       "      <td>Altark Susent</td>\n",
       "      <td>False</td>\n",
       "    </tr>\n",
       "    <tr>\n",
       "      <th>3</th>\n",
       "      <td>0003_02</td>\n",
       "      <td>Europa</td>\n",
       "      <td>False</td>\n",
       "      <td>A/0/S</td>\n",
       "      <td>TRAPPIST-1e</td>\n",
       "      <td>33.0</td>\n",
       "      <td>False</td>\n",
       "      <td>0.0</td>\n",
       "      <td>1283.0</td>\n",
       "      <td>371.0</td>\n",
       "      <td>3329.0</td>\n",
       "      <td>193.0</td>\n",
       "      <td>Solam Susent</td>\n",
       "      <td>False</td>\n",
       "    </tr>\n",
       "    <tr>\n",
       "      <th>4</th>\n",
       "      <td>0004_01</td>\n",
       "      <td>Earth</td>\n",
       "      <td>False</td>\n",
       "      <td>F/1/S</td>\n",
       "      <td>TRAPPIST-1e</td>\n",
       "      <td>16.0</td>\n",
       "      <td>False</td>\n",
       "      <td>303.0</td>\n",
       "      <td>70.0</td>\n",
       "      <td>151.0</td>\n",
       "      <td>565.0</td>\n",
       "      <td>2.0</td>\n",
       "      <td>Willy Santantines</td>\n",
       "      <td>True</td>\n",
       "    </tr>\n",
       "  </tbody>\n",
       "</table>\n",
       "</div>"
      ],
      "text/plain": [
       "  PassengerId HomePlanet CryoSleep  Cabin  Destination   Age    VIP  \\\n",
       "0     0001_01     Europa     False  B/0/P  TRAPPIST-1e  39.0  False   \n",
       "1     0002_01      Earth     False  F/0/S  TRAPPIST-1e  24.0  False   \n",
       "2     0003_01     Europa     False  A/0/S  TRAPPIST-1e  58.0   True   \n",
       "3     0003_02     Europa     False  A/0/S  TRAPPIST-1e  33.0  False   \n",
       "4     0004_01      Earth     False  F/1/S  TRAPPIST-1e  16.0  False   \n",
       "\n",
       "   RoomService  FoodCourt  ShoppingMall     Spa  VRDeck               Name  \\\n",
       "0          0.0        0.0           0.0     0.0     0.0    Maham Ofracculy   \n",
       "1        109.0        9.0          25.0   549.0    44.0       Juanna Vines   \n",
       "2         43.0     3576.0           0.0  6715.0    49.0      Altark Susent   \n",
       "3          0.0     1283.0         371.0  3329.0   193.0       Solam Susent   \n",
       "4        303.0       70.0         151.0   565.0     2.0  Willy Santantines   \n",
       "\n",
       "   Transported  \n",
       "0        False  \n",
       "1         True  \n",
       "2        False  \n",
       "3        False  \n",
       "4         True  "
      ]
     },
     "execution_count": 2,
     "metadata": {},
     "output_type": "execute_result"
    }
   ],
   "source": [
    "# Importing the train data\n",
    "train = pd.read_csv(r'../input/spaceship-titanic/train.csv',sep=',')\n",
    "train.head()"
   ]
  },
  {
   "cell_type": "code",
   "execution_count": 3,
   "id": "86b2c59d",
   "metadata": {
    "execution": {
     "iopub.execute_input": "2022-04-01T01:06:29.340575Z",
     "iopub.status.busy": "2022-04-01T01:06:29.339862Z",
     "iopub.status.idle": "2022-04-01T01:06:29.381051Z",
     "shell.execute_reply": "2022-04-01T01:06:29.380373Z",
     "shell.execute_reply.started": "2022-04-01T00:52:08.403727Z"
    },
    "papermill": {
     "duration": 0.082998,
     "end_time": "2022-04-01T01:06:29.381192",
     "exception": false,
     "start_time": "2022-04-01T01:06:29.298194",
     "status": "completed"
    },
    "tags": []
   },
   "outputs": [
    {
     "data": {
      "text/html": [
       "<div>\n",
       "<style scoped>\n",
       "    .dataframe tbody tr th:only-of-type {\n",
       "        vertical-align: middle;\n",
       "    }\n",
       "\n",
       "    .dataframe tbody tr th {\n",
       "        vertical-align: top;\n",
       "    }\n",
       "\n",
       "    .dataframe thead th {\n",
       "        text-align: right;\n",
       "    }\n",
       "</style>\n",
       "<table border=\"1\" class=\"dataframe\">\n",
       "  <thead>\n",
       "    <tr style=\"text-align: right;\">\n",
       "      <th></th>\n",
       "      <th>PassengerId</th>\n",
       "      <th>HomePlanet</th>\n",
       "      <th>CryoSleep</th>\n",
       "      <th>Cabin</th>\n",
       "      <th>Destination</th>\n",
       "      <th>Age</th>\n",
       "      <th>VIP</th>\n",
       "      <th>RoomService</th>\n",
       "      <th>FoodCourt</th>\n",
       "      <th>ShoppingMall</th>\n",
       "      <th>Spa</th>\n",
       "      <th>VRDeck</th>\n",
       "      <th>Name</th>\n",
       "    </tr>\n",
       "  </thead>\n",
       "  <tbody>\n",
       "    <tr>\n",
       "      <th>0</th>\n",
       "      <td>0013_01</td>\n",
       "      <td>Earth</td>\n",
       "      <td>True</td>\n",
       "      <td>G/3/S</td>\n",
       "      <td>TRAPPIST-1e</td>\n",
       "      <td>27.0</td>\n",
       "      <td>False</td>\n",
       "      <td>0.0</td>\n",
       "      <td>0.0</td>\n",
       "      <td>0.0</td>\n",
       "      <td>0.0</td>\n",
       "      <td>0.0</td>\n",
       "      <td>Nelly Carsoning</td>\n",
       "    </tr>\n",
       "    <tr>\n",
       "      <th>1</th>\n",
       "      <td>0018_01</td>\n",
       "      <td>Earth</td>\n",
       "      <td>False</td>\n",
       "      <td>F/4/S</td>\n",
       "      <td>TRAPPIST-1e</td>\n",
       "      <td>19.0</td>\n",
       "      <td>False</td>\n",
       "      <td>0.0</td>\n",
       "      <td>9.0</td>\n",
       "      <td>0.0</td>\n",
       "      <td>2823.0</td>\n",
       "      <td>0.0</td>\n",
       "      <td>Lerome Peckers</td>\n",
       "    </tr>\n",
       "    <tr>\n",
       "      <th>2</th>\n",
       "      <td>0019_01</td>\n",
       "      <td>Europa</td>\n",
       "      <td>True</td>\n",
       "      <td>C/0/S</td>\n",
       "      <td>55 Cancri e</td>\n",
       "      <td>31.0</td>\n",
       "      <td>False</td>\n",
       "      <td>0.0</td>\n",
       "      <td>0.0</td>\n",
       "      <td>0.0</td>\n",
       "      <td>0.0</td>\n",
       "      <td>0.0</td>\n",
       "      <td>Sabih Unhearfus</td>\n",
       "    </tr>\n",
       "    <tr>\n",
       "      <th>3</th>\n",
       "      <td>0021_01</td>\n",
       "      <td>Europa</td>\n",
       "      <td>False</td>\n",
       "      <td>C/1/S</td>\n",
       "      <td>TRAPPIST-1e</td>\n",
       "      <td>38.0</td>\n",
       "      <td>False</td>\n",
       "      <td>0.0</td>\n",
       "      <td>6652.0</td>\n",
       "      <td>0.0</td>\n",
       "      <td>181.0</td>\n",
       "      <td>585.0</td>\n",
       "      <td>Meratz Caltilter</td>\n",
       "    </tr>\n",
       "    <tr>\n",
       "      <th>4</th>\n",
       "      <td>0023_01</td>\n",
       "      <td>Earth</td>\n",
       "      <td>False</td>\n",
       "      <td>F/5/S</td>\n",
       "      <td>TRAPPIST-1e</td>\n",
       "      <td>20.0</td>\n",
       "      <td>False</td>\n",
       "      <td>10.0</td>\n",
       "      <td>0.0</td>\n",
       "      <td>635.0</td>\n",
       "      <td>0.0</td>\n",
       "      <td>0.0</td>\n",
       "      <td>Brence Harperez</td>\n",
       "    </tr>\n",
       "  </tbody>\n",
       "</table>\n",
       "</div>"
      ],
      "text/plain": [
       "  PassengerId HomePlanet CryoSleep  Cabin  Destination   Age    VIP  \\\n",
       "0     0013_01      Earth      True  G/3/S  TRAPPIST-1e  27.0  False   \n",
       "1     0018_01      Earth     False  F/4/S  TRAPPIST-1e  19.0  False   \n",
       "2     0019_01     Europa      True  C/0/S  55 Cancri e  31.0  False   \n",
       "3     0021_01     Europa     False  C/1/S  TRAPPIST-1e  38.0  False   \n",
       "4     0023_01      Earth     False  F/5/S  TRAPPIST-1e  20.0  False   \n",
       "\n",
       "   RoomService  FoodCourt  ShoppingMall     Spa  VRDeck              Name  \n",
       "0          0.0        0.0           0.0     0.0     0.0   Nelly Carsoning  \n",
       "1          0.0        9.0           0.0  2823.0     0.0    Lerome Peckers  \n",
       "2          0.0        0.0           0.0     0.0     0.0   Sabih Unhearfus  \n",
       "3          0.0     6652.0           0.0   181.0   585.0  Meratz Caltilter  \n",
       "4         10.0        0.0         635.0     0.0     0.0   Brence Harperez  "
      ]
     },
     "execution_count": 3,
     "metadata": {},
     "output_type": "execute_result"
    }
   ],
   "source": [
    "# Importing the test data\n",
    "test = pd.read_csv(r'../input/spaceship-titanic/test.csv',sep=',')\n",
    "test.head()"
   ]
  },
  {
   "cell_type": "markdown",
   "id": "073de516",
   "metadata": {
    "papermill": {
     "duration": 0.032188,
     "end_time": "2022-04-01T01:06:29.446687",
     "exception": false,
     "start_time": "2022-04-01T01:06:29.414499",
     "status": "completed"
    },
    "tags": []
   },
   "source": [
    "#### Cleaning the Data"
   ]
  },
  {
   "cell_type": "code",
   "execution_count": 4,
   "id": "5e157f3c",
   "metadata": {
    "execution": {
     "iopub.execute_input": "2022-04-01T01:06:29.517944Z",
     "iopub.status.busy": "2022-04-01T01:06:29.517200Z",
     "iopub.status.idle": "2022-04-01T01:06:29.526594Z",
     "shell.execute_reply": "2022-04-01T01:06:29.527139Z",
     "shell.execute_reply.started": "2022-04-01T00:52:08.491614Z"
    },
    "papermill": {
     "duration": 0.048105,
     "end_time": "2022-04-01T01:06:29.527325",
     "exception": false,
     "start_time": "2022-04-01T01:06:29.479220",
     "status": "completed"
    },
    "tags": []
   },
   "outputs": [
    {
     "data": {
      "text/plain": [
       "PassengerId       0\n",
       "HomePlanet      201\n",
       "CryoSleep       217\n",
       "Cabin           199\n",
       "Destination     182\n",
       "Age             179\n",
       "VIP             203\n",
       "RoomService     181\n",
       "FoodCourt       183\n",
       "ShoppingMall    208\n",
       "Spa             183\n",
       "VRDeck          188\n",
       "Name            200\n",
       "Transported       0\n",
       "dtype: int64"
      ]
     },
     "execution_count": 4,
     "metadata": {},
     "output_type": "execute_result"
    }
   ],
   "source": [
    "train.isnull().sum()"
   ]
  },
  {
   "cell_type": "code",
   "execution_count": 5,
   "id": "6e26e1f4",
   "metadata": {
    "execution": {
     "iopub.execute_input": "2022-04-01T01:06:29.604282Z",
     "iopub.status.busy": "2022-04-01T01:06:29.597474Z",
     "iopub.status.idle": "2022-04-01T01:06:29.609026Z",
     "shell.execute_reply": "2022-04-01T01:06:29.609687Z",
     "shell.execute_reply.started": "2022-04-01T00:52:08.579837Z"
    },
    "papermill": {
     "duration": 0.05028,
     "end_time": "2022-04-01T01:06:29.609889",
     "exception": false,
     "start_time": "2022-04-01T01:06:29.559609",
     "status": "completed"
    },
    "tags": []
   },
   "outputs": [],
   "source": [
    "train.fillna(0,inplace = True)"
   ]
  },
  {
   "cell_type": "markdown",
   "id": "a2de3d0d",
   "metadata": {
    "papermill": {
     "duration": 0.048668,
     "end_time": "2022-04-01T01:06:29.707996",
     "exception": false,
     "start_time": "2022-04-01T01:06:29.659328",
     "status": "completed"
    },
    "tags": []
   },
   "source": [
    "In the 'Cabin' axis there are 3 'hidden' variables. Let's split them to perform the transformation to numeric features later."
   ]
  },
  {
   "cell_type": "code",
   "execution_count": 6,
   "id": "d20935d1",
   "metadata": {
    "execution": {
     "iopub.execute_input": "2022-04-01T01:06:29.809567Z",
     "iopub.status.busy": "2022-04-01T01:06:29.808799Z",
     "iopub.status.idle": "2022-04-01T01:06:29.836095Z",
     "shell.execute_reply": "2022-04-01T01:06:29.835501Z",
     "shell.execute_reply.started": "2022-04-01T00:52:08.668188Z"
    },
    "papermill": {
     "duration": 0.079669,
     "end_time": "2022-04-01T01:06:29.836234",
     "exception": false,
     "start_time": "2022-04-01T01:06:29.756565",
     "status": "completed"
    },
    "tags": []
   },
   "outputs": [],
   "source": [
    "train[['Deck','Num','Side']]= train['Cabin'].str.split(pat='/',expand=True)"
   ]
  },
  {
   "cell_type": "code",
   "execution_count": 7,
   "id": "0d30eefa",
   "metadata": {
    "execution": {
     "iopub.execute_input": "2022-04-01T01:06:29.910527Z",
     "iopub.status.busy": "2022-04-01T01:06:29.908423Z",
     "iopub.status.idle": "2022-04-01T01:06:29.925760Z",
     "shell.execute_reply": "2022-04-01T01:06:29.926347Z",
     "shell.execute_reply.started": "2022-04-01T00:52:08.759701Z"
    },
    "papermill": {
     "duration": 0.054776,
     "end_time": "2022-04-01T01:06:29.926680",
     "exception": false,
     "start_time": "2022-04-01T01:06:29.871904",
     "status": "completed"
    },
    "tags": []
   },
   "outputs": [
    {
     "data": {
      "text/html": [
       "<div>\n",
       "<style scoped>\n",
       "    .dataframe tbody tr th:only-of-type {\n",
       "        vertical-align: middle;\n",
       "    }\n",
       "\n",
       "    .dataframe tbody tr th {\n",
       "        vertical-align: top;\n",
       "    }\n",
       "\n",
       "    .dataframe thead th {\n",
       "        text-align: right;\n",
       "    }\n",
       "</style>\n",
       "<table border=\"1\" class=\"dataframe\">\n",
       "  <thead>\n",
       "    <tr style=\"text-align: right;\">\n",
       "      <th></th>\n",
       "      <th>PassengerId</th>\n",
       "      <th>HomePlanet</th>\n",
       "      <th>CryoSleep</th>\n",
       "      <th>Cabin</th>\n",
       "      <th>Destination</th>\n",
       "      <th>Age</th>\n",
       "      <th>VIP</th>\n",
       "      <th>RoomService</th>\n",
       "      <th>FoodCourt</th>\n",
       "      <th>ShoppingMall</th>\n",
       "      <th>Spa</th>\n",
       "      <th>VRDeck</th>\n",
       "      <th>Name</th>\n",
       "      <th>Transported</th>\n",
       "      <th>Deck</th>\n",
       "      <th>Num</th>\n",
       "      <th>Side</th>\n",
       "    </tr>\n",
       "  </thead>\n",
       "  <tbody>\n",
       "    <tr>\n",
       "      <th>0</th>\n",
       "      <td>0001_01</td>\n",
       "      <td>Europa</td>\n",
       "      <td>False</td>\n",
       "      <td>B/0/P</td>\n",
       "      <td>TRAPPIST-1e</td>\n",
       "      <td>39.0</td>\n",
       "      <td>False</td>\n",
       "      <td>0.0</td>\n",
       "      <td>0.0</td>\n",
       "      <td>0.0</td>\n",
       "      <td>0.0</td>\n",
       "      <td>0.0</td>\n",
       "      <td>Maham Ofracculy</td>\n",
       "      <td>False</td>\n",
       "      <td>B</td>\n",
       "      <td>0</td>\n",
       "      <td>P</td>\n",
       "    </tr>\n",
       "    <tr>\n",
       "      <th>1</th>\n",
       "      <td>0002_01</td>\n",
       "      <td>Earth</td>\n",
       "      <td>False</td>\n",
       "      <td>F/0/S</td>\n",
       "      <td>TRAPPIST-1e</td>\n",
       "      <td>24.0</td>\n",
       "      <td>False</td>\n",
       "      <td>109.0</td>\n",
       "      <td>9.0</td>\n",
       "      <td>25.0</td>\n",
       "      <td>549.0</td>\n",
       "      <td>44.0</td>\n",
       "      <td>Juanna Vines</td>\n",
       "      <td>True</td>\n",
       "      <td>F</td>\n",
       "      <td>0</td>\n",
       "      <td>S</td>\n",
       "    </tr>\n",
       "    <tr>\n",
       "      <th>2</th>\n",
       "      <td>0003_01</td>\n",
       "      <td>Europa</td>\n",
       "      <td>False</td>\n",
       "      <td>A/0/S</td>\n",
       "      <td>TRAPPIST-1e</td>\n",
       "      <td>58.0</td>\n",
       "      <td>True</td>\n",
       "      <td>43.0</td>\n",
       "      <td>3576.0</td>\n",
       "      <td>0.0</td>\n",
       "      <td>6715.0</td>\n",
       "      <td>49.0</td>\n",
       "      <td>Altark Susent</td>\n",
       "      <td>False</td>\n",
       "      <td>A</td>\n",
       "      <td>0</td>\n",
       "      <td>S</td>\n",
       "    </tr>\n",
       "    <tr>\n",
       "      <th>3</th>\n",
       "      <td>0003_02</td>\n",
       "      <td>Europa</td>\n",
       "      <td>False</td>\n",
       "      <td>A/0/S</td>\n",
       "      <td>TRAPPIST-1e</td>\n",
       "      <td>33.0</td>\n",
       "      <td>False</td>\n",
       "      <td>0.0</td>\n",
       "      <td>1283.0</td>\n",
       "      <td>371.0</td>\n",
       "      <td>3329.0</td>\n",
       "      <td>193.0</td>\n",
       "      <td>Solam Susent</td>\n",
       "      <td>False</td>\n",
       "      <td>A</td>\n",
       "      <td>0</td>\n",
       "      <td>S</td>\n",
       "    </tr>\n",
       "    <tr>\n",
       "      <th>4</th>\n",
       "      <td>0004_01</td>\n",
       "      <td>Earth</td>\n",
       "      <td>False</td>\n",
       "      <td>F/1/S</td>\n",
       "      <td>TRAPPIST-1e</td>\n",
       "      <td>16.0</td>\n",
       "      <td>False</td>\n",
       "      <td>303.0</td>\n",
       "      <td>70.0</td>\n",
       "      <td>151.0</td>\n",
       "      <td>565.0</td>\n",
       "      <td>2.0</td>\n",
       "      <td>Willy Santantines</td>\n",
       "      <td>True</td>\n",
       "      <td>F</td>\n",
       "      <td>1</td>\n",
       "      <td>S</td>\n",
       "    </tr>\n",
       "  </tbody>\n",
       "</table>\n",
       "</div>"
      ],
      "text/plain": [
       "  PassengerId HomePlanet CryoSleep  Cabin  Destination   Age    VIP  \\\n",
       "0     0001_01     Europa     False  B/0/P  TRAPPIST-1e  39.0  False   \n",
       "1     0002_01      Earth     False  F/0/S  TRAPPIST-1e  24.0  False   \n",
       "2     0003_01     Europa     False  A/0/S  TRAPPIST-1e  58.0   True   \n",
       "3     0003_02     Europa     False  A/0/S  TRAPPIST-1e  33.0  False   \n",
       "4     0004_01      Earth     False  F/1/S  TRAPPIST-1e  16.0  False   \n",
       "\n",
       "   RoomService  FoodCourt  ShoppingMall     Spa  VRDeck               Name  \\\n",
       "0          0.0        0.0           0.0     0.0     0.0    Maham Ofracculy   \n",
       "1        109.0        9.0          25.0   549.0    44.0       Juanna Vines   \n",
       "2         43.0     3576.0           0.0  6715.0    49.0      Altark Susent   \n",
       "3          0.0     1283.0         371.0  3329.0   193.0       Solam Susent   \n",
       "4        303.0       70.0         151.0   565.0     2.0  Willy Santantines   \n",
       "\n",
       "   Transported Deck Num Side  \n",
       "0        False    B   0    P  \n",
       "1         True    F   0    S  \n",
       "2        False    A   0    S  \n",
       "3        False    A   0    S  \n",
       "4         True    F   1    S  "
      ]
     },
     "execution_count": 7,
     "metadata": {},
     "output_type": "execute_result"
    }
   ],
   "source": [
    "train.head()"
   ]
  },
  {
   "cell_type": "code",
   "execution_count": 8,
   "id": "bf9de3a7",
   "metadata": {
    "execution": {
     "iopub.execute_input": "2022-04-01T01:06:29.997156Z",
     "iopub.status.busy": "2022-04-01T01:06:29.995325Z",
     "iopub.status.idle": "2022-04-01T01:06:30.000443Z",
     "shell.execute_reply": "2022-04-01T01:06:30.000954Z",
     "shell.execute_reply.started": "2022-04-01T00:52:08.852288Z"
    },
    "papermill": {
     "duration": 0.041577,
     "end_time": "2022-04-01T01:06:30.001106",
     "exception": false,
     "start_time": "2022-04-01T01:06:29.959529",
     "status": "completed"
    },
    "tags": []
   },
   "outputs": [
    {
     "data": {
      "text/plain": [
       "PassengerId      object\n",
       "HomePlanet       object\n",
       "CryoSleep        object\n",
       "Cabin            object\n",
       "Destination      object\n",
       "Age             float64\n",
       "VIP              object\n",
       "RoomService     float64\n",
       "FoodCourt       float64\n",
       "ShoppingMall    float64\n",
       "Spa             float64\n",
       "VRDeck          float64\n",
       "Name             object\n",
       "Transported        bool\n",
       "Deck             object\n",
       "Num              object\n",
       "Side             object\n",
       "dtype: object"
      ]
     },
     "execution_count": 8,
     "metadata": {},
     "output_type": "execute_result"
    }
   ],
   "source": [
    "train.dtypes"
   ]
  },
  {
   "cell_type": "code",
   "execution_count": 9,
   "id": "c9a4d6d1",
   "metadata": {
    "execution": {
     "iopub.execute_input": "2022-04-01T01:06:30.078002Z",
     "iopub.status.busy": "2022-04-01T01:06:30.077360Z",
     "iopub.status.idle": "2022-04-01T01:06:30.089337Z",
     "shell.execute_reply": "2022-04-01T01:06:30.088767Z",
     "shell.execute_reply.started": "2022-04-01T00:52:08.939899Z"
    },
    "papermill": {
     "duration": 0.051322,
     "end_time": "2022-04-01T01:06:30.089472",
     "exception": false,
     "start_time": "2022-04-01T01:06:30.038150",
     "status": "completed"
    },
    "tags": []
   },
   "outputs": [],
   "source": [
    "train.fillna(0,inplace=True)"
   ]
  },
  {
   "cell_type": "code",
   "execution_count": 10,
   "id": "f44e753a",
   "metadata": {
    "execution": {
     "iopub.execute_input": "2022-04-01T01:06:30.159628Z",
     "iopub.status.busy": "2022-04-01T01:06:30.158942Z",
     "iopub.status.idle": "2022-04-01T01:06:30.163962Z",
     "shell.execute_reply": "2022-04-01T01:06:30.164596Z",
     "shell.execute_reply.started": "2022-04-01T00:52:09.023409Z"
    },
    "papermill": {
     "duration": 0.042022,
     "end_time": "2022-04-01T01:06:30.164794",
     "exception": false,
     "start_time": "2022-04-01T01:06:30.122772",
     "status": "completed"
    },
    "tags": []
   },
   "outputs": [],
   "source": [
    "train['Num'] = train['Num'].astype(int)"
   ]
  },
  {
   "cell_type": "markdown",
   "id": "bb7ed771",
   "metadata": {
    "papermill": {
     "duration": 0.032586,
     "end_time": "2022-04-01T01:06:30.230414",
     "exception": false,
     "start_time": "2022-04-01T01:06:30.197828",
     "status": "completed"
    },
    "tags": []
   },
   "source": [
    "Making a One Hot Encoder with categorical features"
   ]
  },
  {
   "cell_type": "code",
   "execution_count": 11,
   "id": "2b23e80c",
   "metadata": {
    "execution": {
     "iopub.execute_input": "2022-04-01T01:06:30.300718Z",
     "iopub.status.busy": "2022-04-01T01:06:30.300121Z",
     "iopub.status.idle": "2022-04-01T01:06:30.305533Z",
     "shell.execute_reply": "2022-04-01T01:06:30.304961Z",
     "shell.execute_reply.started": "2022-04-01T00:52:09.108535Z"
    },
    "papermill": {
     "duration": 0.041891,
     "end_time": "2022-04-01T01:06:30.305711",
     "exception": false,
     "start_time": "2022-04-01T01:06:30.263820",
     "status": "completed"
    },
    "tags": []
   },
   "outputs": [],
   "source": [
    "one_hot_encoder = OneHotEncoder(cols=['HomePlanet','CryoSleep','Destination','VIP','Deck','Side'])"
   ]
  },
  {
   "cell_type": "code",
   "execution_count": 12,
   "id": "a33d6d94",
   "metadata": {
    "execution": {
     "iopub.execute_input": "2022-04-01T01:06:30.377671Z",
     "iopub.status.busy": "2022-04-01T01:06:30.377045Z",
     "iopub.status.idle": "2022-04-01T01:06:30.476969Z",
     "shell.execute_reply": "2022-04-01T01:06:30.477391Z",
     "shell.execute_reply.started": "2022-04-01T00:52:09.219665Z"
    },
    "papermill": {
     "duration": 0.138545,
     "end_time": "2022-04-01T01:06:30.477554",
     "exception": false,
     "start_time": "2022-04-01T01:06:30.339009",
     "status": "completed"
    },
    "tags": []
   },
   "outputs": [],
   "source": [
    "train = one_hot_encoder.fit_transform(train)"
   ]
  },
  {
   "cell_type": "markdown",
   "id": "cbc91181",
   "metadata": {
    "papermill": {
     "duration": 0.032251,
     "end_time": "2022-04-01T01:06:30.542498",
     "exception": false,
     "start_time": "2022-04-01T01:06:30.510247",
     "status": "completed"
    },
    "tags": []
   },
   "source": [
    "Excluding the categorical data"
   ]
  },
  {
   "cell_type": "code",
   "execution_count": 13,
   "id": "94f2765a",
   "metadata": {
    "execution": {
     "iopub.execute_input": "2022-04-01T01:06:30.611664Z",
     "iopub.status.busy": "2022-04-01T01:06:30.611008Z",
     "iopub.status.idle": "2022-04-01T01:06:30.617856Z",
     "shell.execute_reply": "2022-04-01T01:06:30.618349Z",
     "shell.execute_reply.started": "2022-04-01T00:52:09.351252Z"
    },
    "papermill": {
     "duration": 0.042595,
     "end_time": "2022-04-01T01:06:30.618548",
     "exception": false,
     "start_time": "2022-04-01T01:06:30.575953",
     "status": "completed"
    },
    "tags": []
   },
   "outputs": [],
   "source": [
    "train.drop(['PassengerId','Name','Cabin'],inplace = True,axis=1)"
   ]
  },
  {
   "cell_type": "markdown",
   "id": "94f47c88",
   "metadata": {
    "papermill": {
     "duration": 0.032671,
     "end_time": "2022-04-01T01:06:30.684289",
     "exception": false,
     "start_time": "2022-04-01T01:06:30.651618",
     "status": "completed"
    },
    "tags": []
   },
   "source": [
    "#### Spliting the data"
   ]
  },
  {
   "cell_type": "markdown",
   "id": "2216d124",
   "metadata": {
    "papermill": {
     "duration": 0.049596,
     "end_time": "2022-04-01T01:06:30.780315",
     "exception": false,
     "start_time": "2022-04-01T01:06:30.730719",
     "status": "completed"
    },
    "tags": []
   },
   "source": [
    "Initially, we will split the data into training and testing. For the data below, I'll split it as 80/20."
   ]
  },
  {
   "cell_type": "code",
   "execution_count": 14,
   "id": "7b1dbeaf",
   "metadata": {
    "execution": {
     "iopub.execute_input": "2022-04-01T01:06:30.887867Z",
     "iopub.status.busy": "2022-04-01T01:06:30.887025Z",
     "iopub.status.idle": "2022-04-01T01:06:30.892121Z",
     "shell.execute_reply": "2022-04-01T01:06:30.892865Z",
     "shell.execute_reply.started": "2022-04-01T00:52:09.551849Z"
    },
    "papermill": {
     "duration": 0.062373,
     "end_time": "2022-04-01T01:06:30.893078",
     "exception": false,
     "start_time": "2022-04-01T01:06:30.830705",
     "status": "completed"
    },
    "tags": []
   },
   "outputs": [],
   "source": [
    "y = train['Transported']\n",
    "X = train.drop(['Transported'],axis=1)\n",
    "\n",
    "X_train, X_val, y_train, y_val = train_test_split(X, y, test_size=0.2, random_state=42)"
   ]
  },
  {
   "cell_type": "markdown",
   "id": "a8bf1ebc",
   "metadata": {
    "papermill": {
     "duration": 0.049103,
     "end_time": "2022-04-01T01:06:30.992704",
     "exception": false,
     "start_time": "2022-04-01T01:06:30.943601",
     "status": "completed"
    },
    "tags": []
   },
   "source": [
    "#### Random Forest Classifier"
   ]
  },
  {
   "cell_type": "markdown",
   "id": "d34afb95",
   "metadata": {
    "papermill": {
     "duration": 0.048465,
     "end_time": "2022-04-01T01:06:31.090571",
     "exception": false,
     "start_time": "2022-04-01T01:06:31.042106",
     "status": "completed"
    },
    "tags": []
   },
   "source": [
    "First, we'll use Random Forest to see how it will perform."
   ]
  },
  {
   "cell_type": "code",
   "execution_count": 15,
   "id": "a3678a1b",
   "metadata": {
    "execution": {
     "iopub.execute_input": "2022-04-01T01:06:31.192522Z",
     "iopub.status.busy": "2022-04-01T01:06:31.191791Z",
     "iopub.status.idle": "2022-04-01T01:06:31.195560Z",
     "shell.execute_reply": "2022-04-01T01:06:31.196177Z"
    },
    "papermill": {
     "duration": 0.056348,
     "end_time": "2022-04-01T01:06:31.196374",
     "exception": false,
     "start_time": "2022-04-01T01:06:31.140026",
     "status": "completed"
    },
    "tags": []
   },
   "outputs": [],
   "source": [
    "clf = RandomForestClassifier(max_depth=2,random_state=0)"
   ]
  },
  {
   "cell_type": "code",
   "execution_count": 16,
   "id": "ae31ab82",
   "metadata": {
    "execution": {
     "iopub.execute_input": "2022-04-01T01:06:31.303052Z",
     "iopub.status.busy": "2022-04-01T01:06:31.302138Z",
     "iopub.status.idle": "2022-04-01T01:06:31.604139Z",
     "shell.execute_reply": "2022-04-01T01:06:31.603525Z",
     "shell.execute_reply.started": "2022-04-01T00:52:09.735899Z"
    },
    "papermill": {
     "duration": 0.356286,
     "end_time": "2022-04-01T01:06:31.604289",
     "exception": false,
     "start_time": "2022-04-01T01:06:31.248003",
     "status": "completed"
    },
    "tags": []
   },
   "outputs": [
    {
     "data": {
      "text/plain": [
       "RandomForestClassifier(max_depth=2, random_state=0)"
      ]
     },
     "execution_count": 16,
     "metadata": {},
     "output_type": "execute_result"
    }
   ],
   "source": [
    "clf.fit(X_train, y_train)"
   ]
  },
  {
   "cell_type": "markdown",
   "id": "d9507cf7",
   "metadata": {
    "papermill": {
     "duration": 0.04942,
     "end_time": "2022-04-01T01:06:31.703941",
     "exception": false,
     "start_time": "2022-04-01T01:06:31.654521",
     "status": "completed"
    },
    "tags": []
   },
   "source": [
    "Random Forest performed well, let's test ADABoost now to see how it performs."
   ]
  },
  {
   "cell_type": "code",
   "execution_count": 17,
   "id": "fc7095f2",
   "metadata": {
    "execution": {
     "iopub.execute_input": "2022-04-01T01:06:31.807902Z",
     "iopub.status.busy": "2022-04-01T01:06:31.807003Z",
     "iopub.status.idle": "2022-04-01T01:06:31.832531Z",
     "shell.execute_reply": "2022-04-01T01:06:31.831861Z",
     "shell.execute_reply.started": "2022-04-01T00:52:10.099883Z"
    },
    "papermill": {
     "duration": 0.078658,
     "end_time": "2022-04-01T01:06:31.832703",
     "exception": false,
     "start_time": "2022-04-01T01:06:31.754045",
     "status": "completed"
    },
    "tags": []
   },
   "outputs": [
    {
     "data": {
      "text/plain": [
       "0.7423806785508913"
      ]
     },
     "execution_count": 17,
     "metadata": {},
     "output_type": "execute_result"
    }
   ],
   "source": [
    "predict_RF = clf.predict(X_val)\n",
    "\n",
    "accuracy_score(y_val, predict_RF)"
   ]
  },
  {
   "cell_type": "markdown",
   "id": "f683e40d",
   "metadata": {
    "papermill": {
     "duration": 0.051363,
     "end_time": "2022-04-01T01:06:31.934621",
     "exception": false,
     "start_time": "2022-04-01T01:06:31.883258",
     "status": "completed"
    },
    "tags": []
   },
   "source": [
    "#### ADABoosting Classifier"
   ]
  },
  {
   "cell_type": "code",
   "execution_count": 18,
   "id": "9d93d0eb",
   "metadata": {
    "execution": {
     "iopub.execute_input": "2022-04-01T01:06:32.010301Z",
     "iopub.status.busy": "2022-04-01T01:06:32.009665Z",
     "iopub.status.idle": "2022-04-01T01:06:32.011756Z",
     "shell.execute_reply": "2022-04-01T01:06:32.012160Z",
     "shell.execute_reply.started": "2022-04-01T00:52:10.136724Z"
    },
    "papermill": {
     "duration": 0.040962,
     "end_time": "2022-04-01T01:06:32.012317",
     "exception": false,
     "start_time": "2022-04-01T01:06:31.971355",
     "status": "completed"
    },
    "tags": []
   },
   "outputs": [],
   "source": [
    "regr = AdaBoostClassifier(random_state=42, n_estimators=100)"
   ]
  },
  {
   "cell_type": "code",
   "execution_count": 19,
   "id": "62892271",
   "metadata": {
    "execution": {
     "iopub.execute_input": "2022-04-01T01:06:32.083331Z",
     "iopub.status.busy": "2022-04-01T01:06:32.082808Z",
     "iopub.status.idle": "2022-04-01T01:06:32.787033Z",
     "shell.execute_reply": "2022-04-01T01:06:32.787759Z",
     "shell.execute_reply.started": "2022-04-01T00:52:10.144614Z"
    },
    "papermill": {
     "duration": 0.74274,
     "end_time": "2022-04-01T01:06:32.787919",
     "exception": false,
     "start_time": "2022-04-01T01:06:32.045179",
     "status": "completed"
    },
    "tags": []
   },
   "outputs": [
    {
     "data": {
      "text/plain": [
       "AdaBoostClassifier(n_estimators=100, random_state=42)"
      ]
     },
     "execution_count": 19,
     "metadata": {},
     "output_type": "execute_result"
    }
   ],
   "source": [
    "regr.fit(X_train, y_train)"
   ]
  },
  {
   "cell_type": "code",
   "execution_count": 20,
   "id": "7793cc9f",
   "metadata": {
    "execution": {
     "iopub.execute_input": "2022-04-01T01:06:32.858165Z",
     "iopub.status.busy": "2022-04-01T01:06:32.857652Z",
     "iopub.status.idle": "2022-04-01T01:06:32.894267Z",
     "shell.execute_reply": "2022-04-01T01:06:32.894765Z",
     "shell.execute_reply.started": "2022-04-01T00:52:10.962846Z"
    },
    "papermill": {
     "duration": 0.073497,
     "end_time": "2022-04-01T01:06:32.894918",
     "exception": false,
     "start_time": "2022-04-01T01:06:32.821421",
     "status": "completed"
    },
    "tags": []
   },
   "outputs": [],
   "source": [
    "predict_ADA = regr.predict(X_val)"
   ]
  },
  {
   "cell_type": "code",
   "execution_count": 21,
   "id": "1222b398",
   "metadata": {
    "execution": {
     "iopub.execute_input": "2022-04-01T01:06:32.963502Z",
     "iopub.status.busy": "2022-04-01T01:06:32.962967Z",
     "iopub.status.idle": "2022-04-01T01:06:32.967127Z",
     "shell.execute_reply": "2022-04-01T01:06:32.967694Z",
     "shell.execute_reply.started": "2022-04-01T00:52:11.016662Z"
    },
    "papermill": {
     "duration": 0.040129,
     "end_time": "2022-04-01T01:06:32.967862",
     "exception": false,
     "start_time": "2022-04-01T01:06:32.927733",
     "status": "completed"
    },
    "tags": []
   },
   "outputs": [
    {
     "data": {
      "text/plain": [
       "0.7832087406555491"
      ]
     },
     "execution_count": 21,
     "metadata": {},
     "output_type": "execute_result"
    }
   ],
   "source": [
    "accuracy_score(y_val, predict_ADA)"
   ]
  },
  {
   "cell_type": "markdown",
   "id": "3227f564",
   "metadata": {
    "papermill": {
     "duration": 0.051134,
     "end_time": "2022-04-01T01:06:33.070318",
     "exception": false,
     "start_time": "2022-04-01T01:06:33.019184",
     "status": "completed"
    },
    "tags": []
   },
   "source": [
    "Finally, let's test Gradient Boosting to see if it will be more accurate."
   ]
  },
  {
   "cell_type": "markdown",
   "id": "2aedc1c1",
   "metadata": {
    "papermill": {
     "duration": 0.051536,
     "end_time": "2022-04-01T01:06:33.173554",
     "exception": false,
     "start_time": "2022-04-01T01:06:33.122018",
     "status": "completed"
    },
    "tags": []
   },
   "source": [
    "#### Gradient Boosting Classifier"
   ]
  },
  {
   "cell_type": "code",
   "execution_count": 22,
   "id": "bd24f7e4",
   "metadata": {
    "execution": {
     "iopub.execute_input": "2022-04-01T01:06:33.280681Z",
     "iopub.status.busy": "2022-04-01T01:06:33.279941Z",
     "iopub.status.idle": "2022-04-01T01:06:33.283529Z",
     "shell.execute_reply": "2022-04-01T01:06:33.284097Z",
     "shell.execute_reply.started": "2022-04-01T00:52:11.025179Z"
    },
    "papermill": {
     "duration": 0.057976,
     "end_time": "2022-04-01T01:06:33.284283",
     "exception": false,
     "start_time": "2022-04-01T01:06:33.226307",
     "status": "completed"
    },
    "tags": []
   },
   "outputs": [],
   "source": [
    "GBC = GradientBoostingClassifier(n_estimators = 100,random_state=42,max_depth=2,learning_rate=1.0,max_features=2)\n"
   ]
  },
  {
   "cell_type": "code",
   "execution_count": 23,
   "id": "be0d1c5d",
   "metadata": {
    "execution": {
     "iopub.execute_input": "2022-04-01T01:06:33.390749Z",
     "iopub.status.busy": "2022-04-01T01:06:33.389978Z",
     "iopub.status.idle": "2022-04-01T01:06:33.550547Z",
     "shell.execute_reply": "2022-04-01T01:06:33.551128Z",
     "shell.execute_reply.started": "2022-04-01T00:52:11.041790Z"
    },
    "papermill": {
     "duration": 0.215466,
     "end_time": "2022-04-01T01:06:33.551308",
     "exception": false,
     "start_time": "2022-04-01T01:06:33.335842",
     "status": "completed"
    },
    "tags": []
   },
   "outputs": [
    {
     "data": {
      "text/plain": [
       "GradientBoostingClassifier(learning_rate=1.0, max_depth=2, max_features=2,\n",
       "                           random_state=42)"
      ]
     },
     "execution_count": 23,
     "metadata": {},
     "output_type": "execute_result"
    }
   ],
   "source": [
    "GBC.fit(X_train, y_train)"
   ]
  },
  {
   "cell_type": "code",
   "execution_count": 24,
   "id": "6586137e",
   "metadata": {
    "execution": {
     "iopub.execute_input": "2022-04-01T01:06:33.657864Z",
     "iopub.status.busy": "2022-04-01T01:06:33.657191Z",
     "iopub.status.idle": "2022-04-01T01:06:33.664866Z",
     "shell.execute_reply": "2022-04-01T01:06:33.665484Z",
     "shell.execute_reply.started": "2022-04-01T00:52:11.284241Z"
    },
    "papermill": {
     "duration": 0.062552,
     "end_time": "2022-04-01T01:06:33.665718",
     "exception": false,
     "start_time": "2022-04-01T01:06:33.603166",
     "status": "completed"
    },
    "tags": []
   },
   "outputs": [],
   "source": [
    "predict_gbc = GBC.predict(X_val)"
   ]
  },
  {
   "cell_type": "code",
   "execution_count": 25,
   "id": "e309a09a",
   "metadata": {
    "execution": {
     "iopub.execute_input": "2022-04-01T01:06:33.778387Z",
     "iopub.status.busy": "2022-04-01T01:06:33.777513Z",
     "iopub.status.idle": "2022-04-01T01:06:33.780927Z",
     "shell.execute_reply": "2022-04-01T01:06:33.781517Z",
     "shell.execute_reply.started": "2022-04-01T00:52:11.297726Z"
    },
    "papermill": {
     "duration": 0.063206,
     "end_time": "2022-04-01T01:06:33.781759",
     "exception": false,
     "start_time": "2022-04-01T01:06:33.718553",
     "status": "completed"
    },
    "tags": []
   },
   "outputs": [
    {
     "data": {
      "text/plain": [
       "0.7901092581943646"
      ]
     },
     "execution_count": 25,
     "metadata": {},
     "output_type": "execute_result"
    }
   ],
   "source": [
    "accuracy_score(y_val, predict_gbc)"
   ]
  },
  {
   "cell_type": "markdown",
   "id": "52b0a998",
   "metadata": {
    "papermill": {
     "duration": 0.052762,
     "end_time": "2022-04-01T01:06:33.887124",
     "exception": false,
     "start_time": "2022-04-01T01:06:33.834362",
     "status": "completed"
    },
    "tags": []
   },
   "source": [
    "#### Conclusion"
   ]
  },
  {
   "cell_type": "markdown",
   "id": "0836eeaf",
   "metadata": {
    "papermill": {
     "duration": 0.059004,
     "end_time": "2022-04-01T01:06:34.007012",
     "exception": false,
     "start_time": "2022-04-01T01:06:33.948008",
     "status": "completed"
    },
    "tags": []
   },
   "source": [
    "\n",
    "Finally, for the data in question we had a better performance using Gradient Boosting. However, we also obtained satisfactory results with Random Forest and ADABoosting."
   ]
  },
  {
   "cell_type": "code",
   "execution_count": 26,
   "id": "aaca22d5",
   "metadata": {
    "execution": {
     "iopub.execute_input": "2022-04-01T01:06:34.087763Z",
     "iopub.status.busy": "2022-04-01T01:06:34.087072Z",
     "iopub.status.idle": "2022-04-01T01:06:34.094079Z",
     "shell.execute_reply": "2022-04-01T01:06:34.093388Z",
     "shell.execute_reply.started": "2022-04-01T01:00:21.314338Z"
    },
    "papermill": {
     "duration": 0.049146,
     "end_time": "2022-04-01T01:06:34.094246",
     "exception": false,
     "start_time": "2022-04-01T01:06:34.045100",
     "status": "completed"
    },
    "tags": []
   },
   "outputs": [
    {
     "name": "stdout",
     "output_type": "stream",
     "text": [
      "Random Forest: 0.7423806785508913\n",
      "ADABoost: 0.7832087406555491\n",
      "Gradient Boosting Classifier: 0.7901092581943646\n"
     ]
    }
   ],
   "source": [
    "print('Random Forest:',accuracy_score(y_val, predict_RF))\n",
    "print('ADABoost:',accuracy_score(y_val, predict_ADA))\n",
    "print('Gradient Boosting Classifier:',accuracy_score(y_val, predict_gbc))"
   ]
  }
 ],
 "metadata": {
  "kernelspec": {
   "display_name": "Python 3",
   "language": "python",
   "name": "python3"
  },
  "language_info": {
   "codemirror_mode": {
    "name": "ipython",
    "version": 3
   },
   "file_extension": ".py",
   "mimetype": "text/x-python",
   "name": "python",
   "nbconvert_exporter": "python",
   "pygments_lexer": "ipython3",
   "version": "3.7.12"
  },
  "papermill": {
   "default_parameters": {},
   "duration": 15.35869,
   "end_time": "2022-04-01T01:06:34.853411",
   "environment_variables": {},
   "exception": null,
   "input_path": "__notebook__.ipynb",
   "output_path": "__notebook__.ipynb",
   "parameters": {},
   "start_time": "2022-04-01T01:06:19.494721",
   "version": "2.3.3"
  }
 },
 "nbformat": 4,
 "nbformat_minor": 5
}
